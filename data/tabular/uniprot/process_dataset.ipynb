{
 "cells": [
  {
   "cell_type": "code",
   "execution_count": 1,
   "id": "702d78bd-ba4b-4b47-8644-c62df4b21c0a",
   "metadata": {},
   "outputs": [],
   "source": [
    "import json\n",
    "from typing import Dict\n",
    "from urllib.request import urlopen \n",
    "import regex as re"
   ]
  },
  {
   "cell_type": "code",
   "execution_count": 2,
   "id": "9a2657ec-b30c-4a2d-ba64-3a326c5447cc",
   "metadata": {},
   "outputs": [],
   "source": [
    "# Read json from url example\n",
    "\n",
    "def read_json(url :str):\n",
    "\n",
    "    read_json_from_url = urlopen(url)\n",
    "    data_json = json.loads(read_json_from_url.read()) \n",
    "    return data_json\n",
    "\n",
    "\n",
    "def read_json_to_list_of_proteins(path : str):\n",
    "    \"\"\"Reads json file and returns a dictionary\n",
    "    Example usage:\n",
    "        proteins = read_json_to_list_of_proteins(\"uniprotkb_AND_reviewed_true_2023_10_30.json\")\n",
    "    \"\"\"\n",
    "    uniprot_json = json.load(open(path))    \n",
    "    proteins = uniprot_json[\"results\"]\n",
    "    return proteins\n",
    "\n",
    "\n",
    "def remove_pubchem_med_from_text(string : str):\n",
    "    pattern = r'\\(PubMed:\\d+(?:,\\s*PubMed:\\d+)*\\)'\n",
    "    string = re.sub(pattern, '', string)\n",
    "    return string"
   ]
  },
  {
   "cell_type": "code",
   "execution_count": 3,
   "id": "07e8b508-26af-4dff-b026-3c520bb23d8c",
   "metadata": {},
   "outputs": [
    {
     "data": {
      "text/plain": [
       "'MSLEQKKGADIISKILQIQNSIGKTTSPSTLKTKLSEISRKEQENARIQSKLSDLQKKKIDIDNKLLKEKQNLIKEEILERKKLEVLTKKQQKDEIEHQKKLKREIDAIKASTQYITDVSISSYNNTIPETEPEYDLFISHASEDKEDFVRPLAETLQQLGVNVWYDEFTLKVGDSLRQKIDSGLRNSKYGTVVLSTDFIKKDWTNYELDGLVAREMNGHKMILPIWHKITKNDVLDYSPNLADKVALNTSVNSIEEIAHQLADVILNR'"
      ]
     },
     "execution_count": 3,
     "metadata": {},
     "output_type": "execute_result"
    }
   ],
   "source": [
    "example = read_json(\"https://rest.uniprot.org/uniprotkb/A0A009IHW8.json\")\n",
    "example[\"sequence\"][\"value\"]"
   ]
  },
  {
   "cell_type": "markdown",
   "id": "ca8435e6-38e1-48ec-96ce-900e4d7c02eb",
   "metadata": {},
   "source": [
    "### Example"
   ]
  },
  {
   "cell_type": "code",
   "execution_count": 12,
   "id": "f859045f-031a-4fb3-8fcc-9b3b2340c729",
   "metadata": {},
   "outputs": [],
   "source": [
    "CONSIDERED_COMMENTS = [\n",
    "    \"CATALYTIC ACTIVITY\",\n",
    "    \"FUNCTION\"\n",
    "    \"DOMAIN\"\n",
    "]\n",
    "\n",
    "\n",
    "def extract_catalyzed_reactions(json_dict : Dict):\n",
    "    # Define lists\n",
    "    sentences : List = []\n",
    "    reactions : List = []\n",
    "    \n",
    "    comments = json_dict[\"comments\"]\n",
    "    for i in range(len(comments)):\n",
    "        if comments[i][\"commentType\"] == \"FUNCTION\":\n",
    "            sentence_description = json_dict[\"comments\"][i][\"texts\"][i][\"value\"]\n",
    "            sentence_description = remove_pubchem_med_from_text(sentence_description)\n",
    "            sentences.append(sentence_description)\n",
    "        if comments[i][\"commentType\"] == \"CATALYTIC ACTIVITY\":    \n",
    "            catalyzed_reaction = json_dict[\"comments\"][i][\"reaction\"][\"name\"]\n",
    "            ### Replace = with -> for latex\n",
    "            catalyzed_reaction = catalyzed_reaction.replace(\"=\", \"->\")\n",
    "            reactions.append(catalyzed_reaction)\n",
    "    return list(set(sentences)), list(set(reactions))\n",
    "\n",
    "\n",
    "def extract_binding_sites(json_dict : Dict):\n",
    "    binding_sites = [i[\"location\"][\"start\"][\"value\"] for i in example[\"features\"] if i[\"type\"] == \"Binding site\"] \n",
    "    return binding_sites\n",
    "\n",
    "\n",
    "def extract_all(json_dict):\n",
    "    # try:\n",
    "    sequence = json_dict[\"sequence\"][\"value\"]\n",
    "    sentences, reactions = extract_catalyzed_reactions(json_dict)\n",
    "    binding_sites = extract_binding_sites(json_dict)\n",
    "    return {\"sequence\" : {sequence : {\n",
    "            \"reactions\" : '|'.join([str(i) for i in reactions]), \n",
    "            \"binding sites\" : ','.join([str(i) for i in binding_sites])\n",
    "    }}}\n",
    "    # except KeyError:\n",
    "    #     print(\"err\")"
   ]
  },
  {
   "cell_type": "code",
   "execution_count": 13,
   "id": "6d7ed83d-bd6f-4b7c-9f89-71a3ed9a54c6",
   "metadata": {},
   "outputs": [
    {
     "data": {
      "text/plain": [
       "{'sequence': {'MSLEQKKGADIISKILQIQNSIGKTTSPSTLKTKLSEISRKEQENARIQSKLSDLQKKKIDIDNKLLKEKQNLIKEEILERKKLEVLTKKQQKDEIEHQKKLKREIDAIKASTQYITDVSISSYNNTIPETEPEYDLFISHASEDKEDFVRPLAETLQQLGVNVWYDEFTLKVGDSLRQKIDSGLRNSKYGTVVLSTDFIKKDWTNYELDGLVAREMNGHKMILPIWHKITKNDVLDYSPNLADKVALNTSVNSIEEIAHQLADVILNR': {'reactions': \"NAD(+) -> 2'cADPR + H(+) + nicotinamide|H2O + NADP(+) -> ADP-D-ribose 2'-phosphate + H(+) + nicotinamide|H2O + NAD(+) -> ADP-D-ribose + H(+) + nicotinamide\",\n",
       "   'binding sites': '143,172,202,245'}}}"
      ]
     },
     "execution_count": 13,
     "metadata": {},
     "output_type": "execute_result"
    }
   ],
   "source": [
    "extract_all(example)"
   ]
  },
  {
   "cell_type": "code",
   "execution_count": null,
   "id": "845867c8-6457-4c3f-b359-e247f1d3c757",
   "metadata": {},
   "outputs": [],
   "source": [
    "proteins = read_json_to_list_of_proteins(\"uniprotkb_AND_reviewed_true_2023_10_30.json\")\n"
   ]
  },
  {
   "cell_type": "code",
   "execution_count": null,
   "id": "3bb06419-8f01-4205-aa48-afebdfd68824",
   "metadata": {
    "scrolled": true
   },
   "outputs": [],
   "source": [
    "data = []\n",
    "\n",
    "for prot_seq_json in proteins:\n",
    "    data.append(extract_all(prot_seq_json))"
   ]
  },
  {
   "cell_type": "code",
   "execution_count": null,
   "id": "1586f0d7-70ea-4bfe-b0e4-6800cbe3e435",
   "metadata": {},
   "outputs": [],
   "source": []
  }
 ],
 "metadata": {
  "kernelspec": {
   "display_name": "Python 3 (ipykernel)",
   "language": "python",
   "name": "python3"
  },
  "language_info": {
   "codemirror_mode": {
    "name": "ipython",
    "version": 3
   },
   "file_extension": ".py",
   "mimetype": "text/x-python",
   "name": "python",
   "nbconvert_exporter": "python",
   "pygments_lexer": "ipython3",
   "version": "3.8.18"
  }
 },
 "nbformat": 4,
 "nbformat_minor": 5
}
