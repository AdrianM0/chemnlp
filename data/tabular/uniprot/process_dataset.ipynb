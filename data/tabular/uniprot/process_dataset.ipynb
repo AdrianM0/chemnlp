{
 "cells": [
  {
   "cell_type": "code",
   "execution_count": null,
   "id": "702d78bd-ba4b-4b47-8644-c62df4b21c0a",
   "metadata": {},
   "outputs": [],
   "source": [
    "import json\n",
    "from typing import Dict, List, Tuple\n",
    "from urllib.request import urlopen \n",
    "import regex as re\n",
    "import tqdm\n",
    "import pandas as pd"
   ]
  },
  {
   "cell_type": "code",
   "execution_count": null,
   "id": "9a2657ec-b30c-4a2d-ba64-3a326c5447cc",
   "metadata": {},
   "outputs": [],
   "source": [
    "# Read json from url example\n",
    "\n",
    "def read_json(url :str):\n",
    "\n",
    "    read_json_from_url = urlopen(url)\n",
    "    data_json = json.loads(read_json_from_url.read()) \n",
    "    return data_json\n",
    "\n",
    "\n",
    "def read_json_to_list_of_proteins(path : str):\n",
    "    \"\"\"Reads json file and returns a dictionary\n",
    "    Example usage:\n",
    "        proteins = read_json_to_list_of_proteins(\"uniprotkb_AND_reviewed_true_2023_10_30.json\")\n",
    "    \"\"\"\n",
    "    uniprot_json = json.load(open(path))    \n",
    "    proteins = uniprot_json[\"results\"]\n",
    "    return proteins\n",
    "\n",
    "\n",
    "def clean_domain(domain : str):\n",
    "    domain = re.sub(r'\\s*\\(Probable\\)', '', domain)\n",
    "    return domain\n",
    "\n",
    "\n",
    "def remove_pubchem_med_from_text(string : str):\n",
    "    pattern = r'\\(PubMed:\\d+(?:,\\s*PubMed:\\d+)*\\)'\n",
    "    string = re.sub(pattern, '', string)\n",
    "    return string"
   ]
  },
  {
   "cell_type": "code",
   "execution_count": null,
   "id": "96cf82a7-db4b-46e6-859f-f3ad31b7fc3d",
   "metadata": {},
   "outputs": [],
   "source": [
    "clean_domain(\"test some regex (Probable) some text\")"
   ]
  },
  {
   "cell_type": "code",
   "execution_count": null,
   "id": "07e8b508-26af-4dff-b026-3c520bb23d8c",
   "metadata": {},
   "outputs": [],
   "source": [
    "example = read_json(\"https://rest.uniprot.org/uniprotkb/A0A009IHW8.json\")\n",
    "example[\"sequence\"][\"value\"]"
   ]
  },
  {
   "cell_type": "markdown",
   "id": "ca8435e6-38e1-48ec-96ce-900e4d7c02eb",
   "metadata": {},
   "source": [
    "### Example"
   ]
  },
  {
   "cell_type": "code",
   "execution_count": 44,
   "id": "f859045f-031a-4fb3-8fcc-9b3b2340c729",
   "metadata": {},
   "outputs": [],
   "source": [
    "CONSIDERED_COMMENTS = [\n",
    "    \"CATALYTIC ACTIVITY\",\n",
    "    \"FUNCTION\",\n",
    "    \"DOMAIN\",\n",
    "    \"BINDING SITES\"\n",
    "]\n",
    "\n",
    "\n",
    "def extract_catalyzed_reactions(json_dict : Dict) -> Tuple[List, List, List]:\n",
    "    # Define lists\n",
    "    sentences : List = []\n",
    "    reactions : List = []\n",
    "    domains   : List = []\n",
    "    \n",
    "    comments = json_dict[\"comments\"]\n",
    "    for i in range(len(comments)):\n",
    "        if comments[i][\"commentType\"] == \"FUNCTION\":\n",
    "            sentence_description = json_dict[\"comments\"][i][\"texts\"][0][\"value\"]\n",
    "            sentence_description = remove_pubchem_med_from_text(sentence_description)\n",
    "            sentences.append(sentence_description)\n",
    "        if comments[i][\"commentType\"] == \"CATALYTIC ACTIVITY\":    \n",
    "            catalyzed_reaction = json_dict[\"comments\"][i][\"reaction\"][\"name\"]\n",
    "            ### Replace = with -> for latex\n",
    "            catalyzed_reaction = catalyzed_reaction.replace(\"=\", \"->\")\n",
    "            reactions.append(catalyzed_reaction)\n",
    "        if comments[i][\"commentType\"] == \"DOMAIN\":\n",
    "            domain = json_dict[\"comments\"][i][\"texts\"][0][\"value\"]\n",
    "            domain = remove_pubchem_med_from_text(domain)\n",
    "            domains.append(domain)\n",
    "\n",
    "    return list(set(sentences)), list(set(reactions)), list(set(domains))\n",
    "\n",
    "\n",
    "def extract_organisms(json_dict : Dict):\n",
    "    scientificName = json_dict[\"organism\"][\"scientificName\"]\n",
    "    return scientificName\n",
    "\n",
    "def extract_binding_sites(json_dict : Dict):\n",
    "    binding_sites = [i[\"location\"][\"start\"][\"value\"] for i in json_dict[\"features\"] if i[\"type\"] == \"Binding site\"] \n",
    "    return binding_sites\n",
    "\n",
    "\n",
    "def extract_molecular_function(json_dict : Dict):\n",
    "    pass\n",
    "\n",
    "def extract_all(json_dict):\n",
    "    # try:\n",
    "    sequence = json_dict[\"sequence\"][\"value\"]\n",
    "    sentences, reactions, domains = extract_catalyzed_reactions(json_dict)\n",
    "    binding_sites = extract_binding_sites(json_dict)\n",
    "    organisms = extract_organisms(json_dict)\n",
    "    return {\"sequence\" : sequence,\n",
    "            \"reactions\" : '|'.join([str(i) for i in reactions]), \n",
    "            \"sentences\" : sentences,\n",
    "            \"organisms\" : organisms,\n",
    "            \"domains\" : '|'.join([str(i) for i in domains]),\n",
    "            \"binding sites\" : ','.join([str(i) for i in binding_sites])\n",
    "    }\n",
    "    # except KeyError:\n",
    "    #     print(\"err\")"
   ]
  },
  {
   "cell_type": "markdown",
   "id": "07b6dc0e-9f02-4aa7-a97c-9c3ae9f21bba",
   "metadata": {},
   "source": [
    "### Run example"
   ]
  },
  {
   "cell_type": "code",
   "execution_count": 58,
   "id": "6d7ed83d-bd6f-4b7c-9f89-71a3ed9a54c6",
   "metadata": {},
   "outputs": [
    {
     "data": {
      "text/plain": [
       "'328,328,332,332,472,476,480'"
      ]
     },
     "execution_count": 58,
     "metadata": {},
     "output_type": "execute_result"
    }
   ],
   "source": [
    "extract_all(proteins[348])[\"binding sites\"]"
   ]
  },
  {
   "cell_type": "markdown",
   "id": "a7a1b1be-d413-44cd-9b40-bddfaeeac86d",
   "metadata": {},
   "source": [
    "### Full dataset parsing"
   ]
  },
  {
   "cell_type": "code",
   "execution_count": null,
   "id": "845867c8-6457-4c3f-b359-e247f1d3c757",
   "metadata": {},
   "outputs": [],
   "source": [
    "proteins = read_json_to_list_of_proteins(\"uniprotkb_AND_reviewed_true_2023_10_30.json\")"
   ]
  },
  {
   "cell_type": "code",
   "execution_count": null,
   "id": "3bb06419-8f01-4205-aa48-afebdfd68824",
   "metadata": {
    "scrolled": true
   },
   "outputs": [],
   "source": [
    "data = []\n",
    "\n",
    "for prot_id, prot_seq_json in enumerate(tqdm.tqdm(proteins)):\n",
    "    try:\n",
    "        data.append({prot_id : extract_all(prot_seq_json)})\n",
    "    except Exception:\n",
    "        pass"
   ]
  },
  {
   "cell_type": "code",
   "execution_count": null,
   "id": "1586f0d7-70ea-4bfe-b0e4-6800cbe3e435",
   "metadata": {},
   "outputs": [],
   "source": [
    "df = pd.DataFrame(data)"
   ]
  },
  {
   "cell_type": "code",
   "execution_count": 59,
   "id": "f6a7b9f3-bb41-41ba-b283-547907d23fa6",
   "metadata": {},
   "outputs": [],
   "source": [
    "# data = dict(ChainMap(*data))\n",
    "a = {}\n",
    "\n",
    "for seq in data:\n",
    "    a[list(seq.keys())[0]] = list(seq.values())[0]\n",
    "\n",
    "reactions = [a[i][\"reactions\"] for i in list(a.keys())]\n",
    "sequences = [a[i][\"sequence\"] for i in list(a.keys())]\n",
    "sentences = [a[i][\"sentences\"] for i in list(a.keys())]\n",
    "domains = [a[i][\"domains\"] for i in list(a.keys())]\n",
    "organisms = [a[i][\"organisms\"] for i in list(a.keys())]\n",
    "binding_sites = [a[i][\"binding sites\"] for i in list(a.keys())]\n"
   ]
  },
  {
   "cell_type": "code",
   "execution_count": 61,
   "id": "2ccd268b-0902-45fe-89b1-6a83d2b3bcab",
   "metadata": {},
   "outputs": [],
   "source": [
    "df = pd.DataFrame()\n",
    "\n",
    "df[\"sequence\"] = sequences\n",
    "df[\"sentences\"] = sentences\n",
    "df[\"reactions\"] = reactions\n",
    "df[\"domains\"] = domains\n",
    "df[\"organisms\"] = organisms\n",
    "df[\"binding_sites\"] = binding_sites"
   ]
  },
  {
   "cell_type": "code",
   "execution_count": 62,
   "id": "3666eb32-e26c-4a96-a37d-73e064d725ed",
   "metadata": {},
   "outputs": [],
   "source": [
    "df.to_csv(\"reactions_sentences_domains_organisms_binding_sites.csv\")\n"
   ]
  },
  {
   "cell_type": "code",
   "execution_count": null,
   "id": "979fae39-7bb3-4a45-af4f-dd49dbe3afdf",
   "metadata": {},
   "outputs": [],
   "source": [
    "organisms"
   ]
  }
 ],
 "metadata": {
  "kernelspec": {
   "display_name": "Python 3 (ipykernel)",
   "language": "python",
   "name": "python3"
  },
  "language_info": {
   "codemirror_mode": {
    "name": "ipython",
    "version": 3
   },
   "file_extension": ".py",
   "mimetype": "text/x-python",
   "name": "python",
   "nbconvert_exporter": "python",
   "pygments_lexer": "ipython3",
   "version": "3.8.18"
  }
 },
 "nbformat": 4,
 "nbformat_minor": 5
}
